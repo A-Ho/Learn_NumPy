{
 "cells": [
  {
   "cell_type": "code",
   "execution_count": 3,
   "metadata": {},
   "outputs": [],
   "source": [
    "## This practice is designed for Universal Functions, Indexing, Slicing and Iterating\n",
    "import numpy as np"
   ]
  },
  {
   "cell_type": "code",
   "execution_count": 4,
   "metadata": {},
   "outputs": [
    {
     "name": "stdout",
     "output_type": "stream",
     "text": [
      "B=>\n",
      "[0 1 2]\n"
     ]
    }
   ],
   "source": [
    "### Universal Functions\n",
    "B = np.arange(3)\n",
    "print(\"B=> {0}\".format(B))"
   ]
  },
  {
   "cell_type": "code",
   "execution_count": 5,
   "metadata": {},
   "outputs": [
    {
     "name": "stdout",
     "output_type": "stream",
     "text": [
      "B_exp=>\n",
      "[1.         2.71828183 7.3890561 ]\n"
     ]
    }
   ],
   "source": [
    "B_exp = np.exp(B)\n",
    "print(\"B_exp=> {0}\".format(B_exp))"
   ]
  },
  {
   "cell_type": "code",
   "execution_count": 6,
   "metadata": {},
   "outputs": [
    {
     "name": "stdout",
     "output_type": "stream",
     "text": [
      "B_sqrt=>\n",
      "[0.         1.         1.41421356]\n"
     ]
    }
   ],
   "source": [
    "B_sqrt = np.sqrt(B)\n",
    "print(\"B_sqrt=> {0}\".format(B_sqrt))"
   ]
  },
  {
   "cell_type": "code",
   "execution_count": 7,
   "metadata": {},
   "outputs": [
    {
     "name": "stdout",
     "output_type": "stream",
     "text": [
      "B add C=>\n",
      "[2 2 2]\n"
     ]
    }
   ],
   "source": [
    "C = np.array([2, 1, 0])\n",
    "print(\"B add C=> {0}\".format(np.add(B, C)))"
   ]
  },
  {
   "cell_type": "code",
   "execution_count": 25,
   "metadata": {},
   "outputs": [
    {
     "name": "stdout",
     "output_type": "stream",
     "text": [
      "a**2=> [ 0  1  4  9 16 25 36 49 64 81]\n",
      "\n",
      "a[2:5]=> [ 4  9 16]\n",
      "\n",
      "a[:7:2]=> [9999    1 9999    9 9999   25 9999   49   64   81]\n",
      "\n",
      "a[: : -1])=> [  81   64   49 9999   25 9999    9 9999    1 9999]\n",
      "\n",
      "a**(1/2)=> 100.0\n",
      "a**(1/2)=> 1.0\n",
      "a**(1/2)=> 100.0\n",
      "a**(1/2)=> 3.0\n",
      "a**(1/2)=> 100.0\n",
      "a**(1/2)=> 5.0\n",
      "a**(1/2)=> 100.0\n",
      "a**(1/2)=> 7.0\n",
      "a**(1/2)=> 8.0\n",
      "a**(1/2)=> 9.0\n"
     ]
    }
   ],
   "source": [
    "## Indexing, Slicing and Iterating\n",
    "# 只有一維陣列可以被 indexed, sliced, iterated over\n",
    "\n",
    "# indexed\n",
    "a = np.arange(10) ** 2\n",
    "print(\"a**2=> {0}\".format(a))\n",
    "print()\n",
    "print(\"a[2:5]=> {0}\".format(a[2:5]))\n",
    "print()\n",
    "\n",
    "# sliced\n",
    "# 從陣列起始算起可以被2整除的index的元素值都改為9999，直到第7個元素(index為6)為止\n",
    "a[:7:2] = 9999\n",
    "print(\"a[:7:2]=> {0}\".format(a))\n",
    "print()\n",
    "# reversed\n",
    "print(\"a[: : -1])=> {0}\".format(a[: : -1]))\n",
    "print()\n",
    "\n",
    "# Iteracted over\n",
    "for i in a:\n",
    "    print(\"a**(1/2)=> {0}\".format(np.round(i**(1/2), 0)))"
   ]
  },
  {
   "cell_type": "code",
   "execution_count": 38,
   "metadata": {},
   "outputs": [
    {
     "name": "stdout",
     "output_type": "stream",
     "text": [
      "[[ 0  1  2  3  4]\n",
      " [ 5  6  7  8  9]\n",
      " [10 11 12 13 14]\n",
      " [15 16 17 18 19]\n",
      " [20 21 22 23 24]]\n",
      "[19 24]\n",
      "[ 4  9 14 19 24]\n"
     ]
    }
   ],
   "source": [
    "## Form function\n",
    "def my_f(row, col):\n",
    "    return row*5 + col\n",
    "\n",
    "b = np.fromfunction(my_f, (5, 5), dtype=int)\n",
    "print(b)\n",
    "\n",
    "print(b[3:5, 4])\n",
    "print(b[:, 4])"
   ]
  },
  {
   "cell_type": "code",
   "execution_count": null,
   "metadata": {},
   "outputs": [],
   "source": []
  }
 ],
 "metadata": {
  "kernelspec": {
   "display_name": "Python 3",
   "language": "python",
   "name": "python3"
  },
  "language_info": {
   "codemirror_mode": {
    "name": "ipython",
    "version": 3
   },
   "file_extension": ".py",
   "mimetype": "text/x-python",
   "name": "python",
   "nbconvert_exporter": "python",
   "pygments_lexer": "ipython3",
   "version": "3.5.5"
  }
 },
 "nbformat": 4,
 "nbformat_minor": 2
}
