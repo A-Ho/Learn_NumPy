{
 "cells": [
  {
   "cell_type": "code",
   "execution_count": 1,
   "metadata": {},
   "outputs": [],
   "source": [
    "import numpy as np"
   ]
  },
  {
   "cell_type": "code",
   "execution_count": 2,
   "metadata": {},
   "outputs": [
    {
     "name": "stdout",
     "output_type": "stream",
     "text": [
      "a =>\n",
      " [[ 1  2  3  4  5  6  7  8  9 10]\n",
      " [11 12 13 14 15 16 17 18 19 20]\n",
      " [21 22 23 24 25 26 27 28 29 30]\n",
      " [31 32 33 34 35 36 37 38 39 40]\n",
      " [41 42 43 44 45 46 47 48 49 50]]\n",
      "a.shape: (5, 10)\n"
     ]
    }
   ],
   "source": [
    "##Shape Manipulation\n",
    "# 矩陣的形狀\n",
    "# the shape of matrix/array.\n",
    "a = np.arange(1, 51).reshape(5, 10)\n",
    "print(\"a =>\\n\",format(a))\n",
    "print(\"a.shape:\",format(a.shape))"
   ]
  },
  {
   "cell_type": "code",
   "execution_count": 3,
   "metadata": {},
   "outputs": [
    {
     "data": {
      "text/plain": [
       "array([ 1,  2,  3,  4,  5,  6,  7,  8,  9, 10, 11, 12, 13, 14, 15, 16, 17,\n",
       "       18, 19, 20, 21, 22, 23, 24, 25, 26, 27, 28, 29, 30, 31, 32, 33, 34,\n",
       "       35, 36, 37, 38, 39, 40, 41, 42, 43, 44, 45, 46, 47, 48, 49, 50])"
      ]
     },
     "execution_count": 3,
     "metadata": {},
     "output_type": "execute_result"
    }
   ],
   "source": [
    "# revel(): 回傳一個陣列，這個陣列是經過扁平化處理的陣列\n",
    "# revel(): returns an array that is flattened.\n",
    "a.ravel()"
   ]
  },
  {
   "cell_type": "code",
   "execution_count": 4,
   "metadata": {},
   "outputs": [
    {
     "name": "stdout",
     "output_type": "stream",
     "text": [
      "a.reshape(5, 2, 5)=>\n",
      "[[[ 1  2  3  4  5]\n",
      "  [ 6  7  8  9 10]]\n",
      "\n",
      " [[11 12 13 14 15]\n",
      "  [16 17 18 19 20]]\n",
      "\n",
      " [[21 22 23 24 25]\n",
      "  [26 27 28 29 30]]\n",
      "\n",
      " [[31 32 33 34 35]\n",
      "  [36 37 38 39 40]]\n",
      "\n",
      " [[41 42 43 44 45]\n",
      "  [46 47 48 49 50]]]\n",
      "\n",
      "a.reshape(5, 2, -1)=>\n",
      "[[[ 1  2  3  4  5]\n",
      "  [ 6  7  8  9 10]]\n",
      "\n",
      " [[11 12 13 14 15]\n",
      "  [16 17 18 19 20]]\n",
      "\n",
      " [[21 22 23 24 25]\n",
      "  [26 27 28 29 30]]\n",
      "\n",
      " [[31 32 33 34 35]\n",
      "  [36 37 38 39 40]]\n",
      "\n",
      " [[41 42 43 44 45]\n",
      "  [46 47 48 49 50]]]\n"
     ]
    }
   ],
   "source": [
    "# reshape(): 改變陣列的維度\n",
    "# reshape(): change the shape of array.\n",
    "print(\"a.reshape(5, 2, 5)=>\\n{0}\".format(a.reshape(5, 2, 5)))\n",
    "\n",
    "print()\n",
    "# reshape()可以使用-1的選項讓NumPy自動幫你計算維度大小\n",
    "# -1 is a option of reshape, that can automatically calcuate the other dimensions.\n",
    "print(\"a.reshape(5, 2, -1)=>\\n{0}\".format(a.reshape(5, 2, -1)))"
   ]
  },
  {
   "cell_type": "code",
   "execution_count": 5,
   "metadata": {},
   "outputs": [
    {
     "name": "stdout",
     "output_type": "stream",
     "text": [
      "b =>\n",
      "[[1 2 3]\n",
      " [4 5 6]]\n",
      "\n",
      "轉置矩陣b(Transpose b.)\n",
      "=>\n",
      "[[1 4]\n",
      " [2 5]\n",
      " [3 6]]\n"
     ]
    }
   ],
   "source": [
    "# T: 將陣列或矩陣轉置\n",
    "# T: Transpose an array or matrix.\n",
    "b = np.arange(1, 7).reshape(2, 3)\n",
    "print(\"b =>\\n{0}\".format(b))\n",
    "\n",
    "print()\n",
    "print(\"轉置矩陣b(Transpose b.)\\n=>\\n{0}\".format(b.T))"
   ]
  },
  {
   "cell_type": "code",
   "execution_count": 11,
   "metadata": {},
   "outputs": [
    {
     "name": "stdout",
     "output_type": "stream",
     "text": [
      "a=>\n",
      "[[ 1  2  3  4  5]\n",
      " [ 6  7  8  9 10]]\n",
      "\n",
      "np.vstack((a,a))=>\n",
      "[[ 1  2  3  4  5]\n",
      " [ 6  7  8  9 10]\n",
      " [ 1  2  3  4  5]\n",
      " [ 6  7  8  9 10]]\n",
      "\n",
      "np.hstack((a,a))=>\n",
      "[[ 1  2  3  4  5  1  2  3  4  5]\n",
      " [ 6  7  8  9 10  6  7  8  9 10]]\n"
     ]
    }
   ],
   "source": [
    "##Stacking together different arrays\n",
    "# 將不同的矩陣堆疊在一起\n",
    "a = np.arange(1,11).reshape(2,5)\n",
    "print(\"a=>\\n{0}\".format(a))\n",
    "\n",
    "print()\n",
    "# Stacking 2 arrays along a horizontal axis.\n",
    "# 將2個陣列沿著水平軸堆疊起來\n",
    "print(\"np.vstack((a,a))=>\\n{0}\".format(np.vstack((a,a))))\n",
    "\n",
    "print()\n",
    "# Stacking 2 arrays along a vertical axis.\n",
    "# 將2個陣列沿著垂直軸堆疊起來\n",
    "print(\"np.hstack((a,a))=>\\n{0}\".format(np.hstack((a,a))))"
   ]
  },
  {
   "cell_type": "code",
   "execution_count": 12,
   "metadata": {},
   "outputs": [
    {
     "name": "stdout",
     "output_type": "stream",
     "text": [
      "a=>\n",
      "[[9. 1. 9. 1. 1. 7.]\n",
      " [8. 7. 8. 8. 5. 0.]]\n",
      "\n",
      "np.hsplit(a, 3)=>\n",
      "[array([[9., 1.],\n",
      "       [8., 7.]]), array([[9., 1.],\n",
      "       [8., 8.]]), array([[1., 7.],\n",
      "       [5., 0.]])]\n",
      "\n",
      "np.hsplit(a, (2,4))=>\n",
      "[array([[9., 1.],\n",
      "       [8., 7.]]), array([[9., 1.],\n",
      "       [8., 8.]]), array([[1., 7.],\n",
      "       [5., 0.]])]\n"
     ]
    }
   ],
   "source": [
    "##Splitting one array into several smaller ones\n",
    "a = np.round(np.random.random([2,6])*10, 0)\n",
    "print(\"a=>\\n{0}\".format(a))\n",
    "\n",
    "print()\n",
    "# hsplit(array, N): 沿著水平軸切成三個矩陣\n",
    "# hsplit(array, N): Split an array into N arries/matrices along its horizontal axis.\n",
    "print(\"np.hsplit(a, 3)=>\\n{0}\".format(np.hsplit(a, 3)))\n",
    "\n",
    "print()\n",
    "# hsplit(array, ())\n",
    "print(\"np.hsplit(a, (2,4))=>\\n{0}\".format(np.hsplit(a, (2,4))))"
   ]
  },
  {
   "cell_type": "code",
   "execution_count": null,
   "metadata": {},
   "outputs": [],
   "source": []
  }
 ],
 "metadata": {
  "kernelspec": {
   "display_name": "Python 3",
   "language": "python",
   "name": "python3"
  },
  "language_info": {
   "codemirror_mode": {
    "name": "ipython",
    "version": 3
   },
   "file_extension": ".py",
   "mimetype": "text/x-python",
   "name": "python",
   "nbconvert_exporter": "python",
   "pygments_lexer": "ipython3",
   "version": "3.5.5"
  }
 },
 "nbformat": 4,
 "nbformat_minor": 2
}
