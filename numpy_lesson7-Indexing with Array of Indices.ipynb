{
 "cells": [
  {
   "cell_type": "code",
   "execution_count": 3,
   "metadata": {},
   "outputs": [],
   "source": [
    "import numpy as np"
   ]
  },
  {
   "cell_type": "code",
   "execution_count": 23,
   "metadata": {},
   "outputs": [
    {
     "name": "stdout",
     "output_type": "stream",
     "text": [
      "a=>[ 0  1  4  9 16 25 36 49 64 81]\n",
      "\n",
      "i=> [1 3 5 7 9]\n",
      "a[i]=> [ 1  9 25 49 81]\n",
      "\n",
      "j=>\n",
      "[[3 4]\n",
      " [5 6]]\n",
      "a[j]=>\n",
      "[[ 9 16]\n",
      " [25 36]]\n"
     ]
    }
   ],
   "source": [
    "##Indexing with Arrays of Indices\n",
    "a = np.arange(10)**2\n",
    "print('a=>{0}'.format(a))\n",
    "\n",
    "print()\n",
    "i = np.array([1, 3, 5, 7, 9])\n",
    "print('i=> {0}'.format(i))\n",
    "print('a[i]=> {1}'.format(i, a[i]))\n",
    "\n",
    "print()\n",
    "j = np.array( [[3, 4], [5, 6]] )\n",
    "print('j=>\\n{0}'.format(j))\n",
    "# Changes shape of a as j, and gets values.\n",
    "# 把a的形狀改成像j的形狀, 而且取得相對應index的值.\n",
    "print('a[j]=>\\n{0}'.format(a[j]))"
   ]
  },
  {
   "cell_type": "code",
   "execution_count": 27,
   "metadata": {},
   "outputs": [
    {
     "name": "stdout",
     "output_type": "stream",
     "text": [
      "[[1 2 3]\n",
      " [6 5 5]\n",
      " [7 8 9]]\n",
      "[2 2 2]\n",
      "[2 0 2]\n"
     ]
    }
   ],
   "source": [
    "x = np.array([[1, 2, 3], [6, 5, 5], [7, 8, 9]])\n",
    "print(x)\n",
    "print(x.argmax(axis=0))\n",
    "print(x.argmax(axis=1))"
   ]
  },
  {
   "cell_type": "code",
   "execution_count": null,
   "metadata": {},
   "outputs": [],
   "source": []
  }
 ],
 "metadata": {
  "kernelspec": {
   "display_name": "Python 3",
   "language": "python",
   "name": "python3"
  },
  "language_info": {
   "codemirror_mode": {
    "name": "ipython",
    "version": 3
   },
   "file_extension": ".py",
   "mimetype": "text/x-python",
   "name": "python",
   "nbconvert_exporter": "python",
   "pygments_lexer": "ipython3",
   "version": "3.5.5"
  }
 },
 "nbformat": 4,
 "nbformat_minor": 2
}
