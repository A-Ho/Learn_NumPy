{
 "cells": [
  {
   "cell_type": "code",
   "execution_count": 2,
   "metadata": {},
   "outputs": [],
   "source": [
    "# This practice is designed for \"Basic Operations\".\n",
    "import numpy as np"
   ]
  },
  {
   "cell_type": "code",
   "execution_count": 3,
   "metadata": {},
   "outputs": [
    {
     "name": "stdout",
     "output_type": "stream",
     "text": [
      "維度相同的矩陣相加、減:\n",
      "a=>[6 7 8 9]\n",
      "b=>[0 1 2 3]\n",
      "c=>[6 6 6 6]\n",
      "\n",
      "同加、同減一個數值:\n",
      "a=>[11 12 13 14]\n",
      "b=>[-5 -4 -3 -2]\n",
      "\n",
      "次方：\n",
      "d=>[25 16  9  4]\n"
     ]
    }
   ],
   "source": [
    "print('維度相同的矩陣相加、減:')\n",
    "# 維度相同的矩陣相加、減\n",
    "a = np.array( [6, 7, 8, 9] )\n",
    "b = np.arange( 4 )\n",
    "c = a - b\n",
    "print(\"a=>{0}\".format(a))\n",
    "print(\"b=>{0}\".format(b))\n",
    "print(\"c=>{0}\".format(c))\n",
    "\n",
    "\n",
    "print('\\n同加、同減一個數值:')\n",
    "# 同加、同減一個數值\n",
    "a += 5\n",
    "print(\"a=>{0}\".format(a))\n",
    "b -= 5\n",
    "print(\"b=>{0}\".format(b))\n",
    "\n",
    "\n",
    "print('\\n次方：')\n",
    "# d是b的2次方\n",
    "# d is squared of b.\n",
    "d = b**2\n",
    "print(\"d=>{0}\".format(d))"
   ]
  },
  {
   "cell_type": "code",
   "execution_count": 4,
   "metadata": {},
   "outputs": [
    {
     "name": "stdout",
     "output_type": "stream",
     "text": [
      "a=>[0 1 2 3 4]\n",
      "b=>[10  9  8  7  6]\n",
      "\n",
      "同除:\n",
      "c=>[0.  0.5 1.  1.5 2. ]\n",
      "\n",
      "同乘:\n",
      "d=>[10  9  8  7  6]\n"
     ]
    }
   ],
   "source": [
    "a = np.arange(5)\n",
    "b = np.arange(10, 5, -1)\n",
    "print(\"a=>{0}\".format(a))\n",
    "print(\"b=>{0}\".format(b))\n",
    "print(\"\\n同除:\")\n",
    "# c等於a同除以2\n",
    "c = a / 2\n",
    "print(\"c=>{0}\".format(c))\n",
    "\n",
    "print(\"\\n同乘:\")\n",
    "# d等於b同乘以2\n",
    "d = b * 2\n",
    "print(\"d=>{0}\".format(b))"
   ]
  },
  {
   "cell_type": "code",
   "execution_count": 6,
   "metadata": {},
   "outputs": [
    {
     "name": "stdout",
     "output_type": "stream",
     "text": [
      "A, B相乘(矩陣乘法) =>\n",
      "[[19 22]\n",
      " [43 50]]\n",
      "\n",
      "A, B相對應位置相乘=>\n",
      "[[ 5 12]\n",
      " [21 32]]\n"
     ]
    }
   ],
   "source": [
    "# 矩陣相乘\n",
    "A = np.array([[1, 2], [3, 4]])\n",
    "B = np.array([[5, 6], [7, 8]])\n",
    "print(\"A, B相乘(矩陣乘法) =>\\n{0}\".format(A.dot(B)))\n",
    "print()\n",
    "print(\"A, B相對應位置相乘=>\\n{0}\".format(A*B))"
   ]
  },
  {
   "cell_type": "code",
   "execution_count": 11,
   "metadata": {
    "scrolled": true
   },
   "outputs": [
    {
     "name": "stdout",
     "output_type": "stream",
     "text": [
      "陣列e裡面哪幾個位置的元素值小於等於零?:[False  True False False  True]\n",
      "把小於等於0的元素取代成1=>[5 1 3 9 1]\n"
     ]
    }
   ],
   "source": [
    "# 印出陣列中小於等於0的元素\n",
    "e = np.array([5, -1, 3, 9, 0])\n",
    "print(\"陣列e裡面哪幾個位置的元素值小於等於零?:{0}\".format(e<=0))\n",
    "\n",
    "# 把小於等於0的元素取代成1\n",
    "e[e<=0] = 1\n",
    "print(\"把小於等於0的元素取代成1=>{0}\".format(e))"
   ]
  },
  {
   "cell_type": "code",
   "execution_count": 17,
   "metadata": {},
   "outputs": [
    {
     "name": "stdout",
     "output_type": "stream",
     "text": [
      "a=>\n",
      "[[5. 5. 5.]\n",
      " [5. 5. 5.]]\n",
      "b=>\n",
      "[[5.54183799 5.417976   5.8559411 ]\n",
      " [5.92448501 5.28735178 5.73039198]]\n",
      "a=>\n",
      "[[10.54183799 10.417976   10.8559411 ]\n",
      " [10.92448501 10.28735178 10.73039198]]\n"
     ]
    }
   ],
   "source": [
    "## Operations: += *=\n",
    "a = np.ones((2, 3), dtype=np.float)\n",
    "b = np.random.random( (2,3) )\n",
    "a *= 5\n",
    "print(\"a=>\\n{0}\".format(a))\n",
    "b += a\n",
    "\n",
    "print(\"b=>\\n{0}\".format(b))\n",
    "\n",
    "\n",
    "a += b\n",
    "print(\"a=>\\n{0}\".format(a))"
   ]
  },
  {
   "cell_type": "code",
   "execution_count": 18,
   "metadata": {},
   "outputs": [
    {
     "name": "stdout",
     "output_type": "stream",
     "text": [
      "a=>\n",
      "[[5 5 5]\n",
      " [5 5 5]]\n",
      "b=>\n",
      "[[5.38047447 5.23668611 5.9057241 ]\n",
      " [5.62997161 5.45062956 5.12463863]]\n"
     ]
    },
    {
     "ename": "TypeError",
     "evalue": "Cannot cast ufunc add output from dtype('float64') to dtype('int64') with casting rule 'same_kind'",
     "output_type": "error",
     "traceback": [
      "\u001b[0;31m---------------------------------------------------------------------------\u001b[0m",
      "\u001b[0;31mTypeError\u001b[0m                                 Traceback (most recent call last)",
      "\u001b[0;32m<ipython-input-18-ac31fc386fa0>\u001b[0m in \u001b[0;36m<module>\u001b[0;34m()\u001b[0m\n\u001b[1;32m      9\u001b[0m \u001b[0;34m\u001b[0m\u001b[0m\n\u001b[1;32m     10\u001b[0m \u001b[0;31m# int64 = int64 + float64\u001b[0m\u001b[0;34m\u001b[0m\u001b[0;34m\u001b[0m\u001b[0m\n\u001b[0;32m---> 11\u001b[0;31m \u001b[0ma\u001b[0m \u001b[0;34m+=\u001b[0m \u001b[0mb\u001b[0m\u001b[0;34m\u001b[0m\u001b[0m\n\u001b[0m\u001b[1;32m     12\u001b[0m \u001b[0mprint\u001b[0m\u001b[0;34m(\u001b[0m\u001b[0;34m\"a=>\\n{0}\"\u001b[0m\u001b[0;34m.\u001b[0m\u001b[0mformat\u001b[0m\u001b[0;34m(\u001b[0m\u001b[0ma\u001b[0m\u001b[0;34m)\u001b[0m\u001b[0;34m)\u001b[0m\u001b[0;34m\u001b[0m\u001b[0m\n",
      "\u001b[0;31mTypeError\u001b[0m: Cannot cast ufunc add output from dtype('float64') to dtype('int64') with casting rule 'same_kind'"
     ]
    }
   ],
   "source": [
    "## Operations: += *=\n",
    "a = np.ones((2, 3), dtype=np.int)\n",
    "b = np.random.random( (2,3) )\n",
    "a *= 5\n",
    "print(\"a=>\\n{0}\".format(a))\n",
    "b += a\n",
    "# float64 = float64 + int64\n",
    "print(\"b=>\\n{0}\".format(b))\n",
    "\n",
    "# int64 = int64 + float64\n",
    "a += b\n",
    "print(\"a=>\\n{0}\".format(a))"
   ]
  },
  {
   "cell_type": "code",
   "execution_count": 6,
   "metadata": {},
   "outputs": [
    {
     "name": "stdout",
     "output_type": "stream",
     "text": [
      "sum=>4.749391952733504\n",
      "max=>0.9580529936101387\n",
      "min=>0.13855036514445263\n",
      "mean=>0.5277102169703893\n"
     ]
    }
   ],
   "source": [
    "## Methods: sum, min, max, mean\n",
    "a = np.random.random((3, 3))\n",
    "print(\"sum=>{0}\\nmax=>{1}\\nmin=>{2}\\nmean=>{3}\".format(a.sum(), a.max(), a.min(), a.mean()))"
   ]
  },
  {
   "cell_type": "code",
   "execution_count": 19,
   "metadata": {},
   "outputs": [
    {
     "name": "stdout",
     "output_type": "stream",
     "text": [
      "b=>\n",
      "[[ 0  1  2  3  4  5]\n",
      " [ 6  7  8  9 10 11]]\n",
      "\n",
      "b.sum(axis=0)=>[ 6  8 10 12 14 16]\n",
      "\n",
      "b.sum(axis=0)=>[15 51]\n",
      "\n",
      "revenu=>\n",
      "[[57. 53. 51. 42. 52. 61. 61. 30. 30. 14. 93. 62.]]\n",
      "\n",
      "Cumulative Sum of revenu=>\n",
      "[ 57. 110. 161. 203. 255. 316. 377. 407. 437. 451. 544. 606.]\n"
     ]
    }
   ],
   "source": [
    "b = np.arange(12).reshape(2, 6)\n",
    "print(\"b=>\\n{0}\".format(b))\n",
    "\n",
    "print()\n",
    "# 加總每一欄(column)\n",
    "print(\"b.sum(axis=0)=>{0}\".format(b.sum(axis=0)))\n",
    "\n",
    "print()\n",
    "# 加總每一列(row)\n",
    "print(\"b.sum(axis=0)=>{0}\".format(b.sum(axis=1)))\n",
    "\n",
    "print()\n",
    "revenu = np.round(np.random.random((1,12)) * 100, 0)\n",
    "print(\"revenu=>\\n{0}\".format(revenu))\n",
    "\n",
    "print()\n",
    "# 累計加總(每一項數值等於自己加上前一項)\n",
    "print(\"Cumulative Sum of revenu=>\\n{0}\".format(revenu.cumsum()))"
   ]
  },
  {
   "cell_type": "code",
   "execution_count": null,
   "metadata": {},
   "outputs": [],
   "source": []
  }
 ],
 "metadata": {
  "kernelspec": {
   "display_name": "Python 3",
   "language": "python",
   "name": "python3"
  },
  "language_info": {
   "codemirror_mode": {
    "name": "ipython",
    "version": 3
   },
   "file_extension": ".py",
   "mimetype": "text/x-python",
   "name": "python",
   "nbconvert_exporter": "python",
   "pygments_lexer": "ipython3",
   "version": "3.5.5"
  }
 },
 "nbformat": 4,
 "nbformat_minor": 2
}
