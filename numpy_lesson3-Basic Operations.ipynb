{
 "cells": [
  {
   "cell_type": "code",
   "execution_count": 2,
   "metadata": {},
   "outputs": [],
   "source": [
    "# This practice is designed for \"Basic Operations\".\n",
    "import numpy as np"
   ]
  },
  {
   "cell_type": "code",
   "execution_count": 28,
   "metadata": {},
   "outputs": [
    {
     "name": "stdout",
     "output_type": "stream",
     "text": [
      "a=>[6 7 8 9]\n",
      "b=>[0 1 2 3]\n",
      "c=>[6 6 6 6]\n",
      "d=>[0 1 4 9]\n",
      "value <= 0 in d:[ True False False False]\n",
      "d=>[1 1 4 9]\n",
      "e=>[6. 7. 2. 1.]\n"
     ]
    }
   ],
   "source": [
    "a = np.array( [6, 7, 8, 9] )\n",
    "b = np.arange( 4 )\n",
    "c = a - b\n",
    "print(\"a=>{0}\".format(a))\n",
    "print(\"b=>{0}\".format(b))\n",
    "print(\"c=>{0}\".format(c))\n",
    "\n",
    "# d is squared of b.\n",
    "d = b**2\n",
    "print(\"d=>{0}\".format(d))\n",
    "\n",
    "# 將陣列元素值小於等於0的元素值，取代成1\n",
    "print(\"value <= 0 in d:{0}\".format(d<=0))\n",
    "d[d<=0] = 1\n",
    "print(\"d=>{0}\".format(d))\n",
    "\n",
    "e = a / d\n",
    "print(\"e=>{0}\".format(e))"
   ]
  },
  {
   "cell_type": "code",
   "execution_count": 32,
   "metadata": {},
   "outputs": [
    {
     "name": "stdout",
     "output_type": "stream",
     "text": [
      "AxB=>\n",
      "[[ 5 12]\n",
      " [21 32]]\n",
      "A matrix product B =>\n",
      "[[19 22]\n",
      " [43 50]]\n"
     ]
    }
   ],
   "source": [
    "A = np.array([[1, 2], [3, 4]])\n",
    "B = np.array([[5, 6], [7, 8]])\n",
    "print(\"A elementwise product B=>\\n{0}\".format(A*B))\n",
    "\n",
    "print(\"A matrix product B =>\\n{0}\".format(A.dot(B)))"
   ]
  },
  {
   "cell_type": "code",
   "execution_count": 36,
   "metadata": {},
   "outputs": [
    {
     "name": "stdout",
     "output_type": "stream",
     "text": [
      "a=>\n",
      "[[5 5 5]\n",
      " [5 5 5]]\n",
      "b=>\n",
      "[[5.79559739 5.77685238 5.87082873]\n",
      " [5.76368142 5.66284714 5.52416567]]\n"
     ]
    },
    {
     "ename": "TypeError",
     "evalue": "Cannot cast ufunc add output from dtype('float64') to dtype('int64') with casting rule 'same_kind'",
     "output_type": "error",
     "traceback": [
      "\u001b[0;31m---------------------------------------------------------------------------\u001b[0m",
      "\u001b[0;31mTypeError\u001b[0m                                 Traceback (most recent call last)",
      "\u001b[0;32m<ipython-input-36-3f4fdb257714>\u001b[0m in \u001b[0;36m<module>\u001b[0;34m()\u001b[0m\n\u001b[1;32m      8\u001b[0m \u001b[0;34m\u001b[0m\u001b[0m\n\u001b[1;32m      9\u001b[0m \u001b[0;31m# int64 = int64 + float64\u001b[0m\u001b[0;34m\u001b[0m\u001b[0;34m\u001b[0m\u001b[0m\n\u001b[0;32m---> 10\u001b[0;31m \u001b[0ma\u001b[0m \u001b[0;34m+=\u001b[0m \u001b[0mb\u001b[0m\u001b[0;34m\u001b[0m\u001b[0m\n\u001b[0m\u001b[1;32m     11\u001b[0m \u001b[0mprint\u001b[0m\u001b[0;34m(\u001b[0m\u001b[0;34m\"a=>\\n{0}\"\u001b[0m\u001b[0;34m.\u001b[0m\u001b[0mformat\u001b[0m\u001b[0;34m(\u001b[0m\u001b[0ma\u001b[0m\u001b[0;34m)\u001b[0m\u001b[0;34m)\u001b[0m\u001b[0;34m\u001b[0m\u001b[0m\n",
      "\u001b[0;31mTypeError\u001b[0m: Cannot cast ufunc add output from dtype('float64') to dtype('int64') with casting rule 'same_kind'"
     ]
    }
   ],
   "source": [
    "## Operations: += *=\n",
    "a = np.ones((2, 3), dtype=int)\n",
    "b = np.random.random( (2,3) )\n",
    "a *= 5\n",
    "print(\"a=>\\n{0}\".format(a))\n",
    "b += a\n",
    "# float64 = float64 + int64\n",
    "print(\"b=>\\n{0}\".format(b))\n",
    "\n",
    "# int64 = int64 + float64\n",
    "a += b\n",
    "print(\"a=>\\n{0}\".format(a))"
   ]
  },
  {
   "cell_type": "code",
   "execution_count": 42,
   "metadata": {},
   "outputs": [
    {
     "name": "stdout",
     "output_type": "stream",
     "text": [
      "sum=>5.122067675994709\n",
      "max=>0.9491228462202894\n",
      "min=>0.1088830369032614\n",
      "mean=>0.5691186306660787\n"
     ]
    }
   ],
   "source": [
    "## Methods: sum, min, max, mean\n",
    "a = np.random.random((3, 3))\n",
    "print(\"sum=>{0}\\nmax=>{1}\\nmin=>{2}\\nmean=>{3}\".format(a.sum(), a.max(), a.min(), a.mean()))"
   ]
  },
  {
   "cell_type": "code",
   "execution_count": 50,
   "metadata": {},
   "outputs": [
    {
     "name": "stdout",
     "output_type": "stream",
     "text": [
      "b=>\n",
      "[[ 0  1  2  3  4  5]\n",
      " [ 6  7  8  9 10 11]]\n",
      "b.sum(axis=0)=>[ 6  8 10 12 14 16]\n",
      "b.sum(axis=0)=>[15 51]\n",
      "revenu=>\n",
      "[[17. 94. 35. 72. 72. 34. 49. 25. 12. 94.  2. 55.]]\n",
      "Cumulative Sum of revenu=>\n",
      "[ 17. 111. 146. 218. 290. 324. 373. 398. 410. 504. 506. 561.]\n"
     ]
    }
   ],
   "source": [
    "b = np.arange(12).reshape(2, 6)\n",
    "print(\"b=>\\n{0}\".format(b))\n",
    "\n",
    "# sum of each column\n",
    "print(\"b.sum(axis=0)=>{0}\".format(b.sum(axis=0)))\n",
    "\n",
    "# sum of each row\n",
    "print(\"b.sum(axis=0)=>{0}\".format(b.sum(axis=1)))\n",
    "\n",
    "revenu = np.round(np.random.random((1,12)) * 100, 0)\n",
    "print(\"revenu=>\\n{0}\".format(revenu))\n",
    "print(\"Cumulative Sum of revenu=>\\n{0}\".format(revenu.cumsum()))"
   ]
  },
  {
   "cell_type": "code",
   "execution_count": null,
   "metadata": {},
   "outputs": [],
   "source": []
  }
 ],
 "metadata": {
  "kernelspec": {
   "display_name": "Python 3",
   "language": "python",
   "name": "python3"
  },
  "language_info": {
   "codemirror_mode": {
    "name": "ipython",
    "version": 3
   },
   "file_extension": ".py",
   "mimetype": "text/x-python",
   "name": "python",
   "nbconvert_exporter": "python",
   "pygments_lexer": "ipython3",
   "version": "3.5.5"
  }
 },
 "nbformat": 4,
 "nbformat_minor": 2
}
